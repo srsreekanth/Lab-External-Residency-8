{
  "nbformat": 4,
  "nbformat_minor": 0,
  "metadata": {
    "colab": {
      "name": "R8_External_Lab.ipynb",
      "version": "0.3.2",
      "provenance": [],
      "collapsed_sections": [],
      "toc_visible": true
    },
    "kernelspec": {
      "name": "python3",
      "display_name": "Python 3"
    },
    "accelerator": "GPU"
  },
  "cells": [
    {
      "metadata": {
        "colab_type": "text",
        "id": "QGIsF1ADyJ58"
      },
      "cell_type": "markdown",
      "source": [
        "# Transfer Learning CIFAR10"
      ]
    },
    {
      "metadata": {
        "colab_type": "text",
        "id": "E-n6tVFayGBe"
      },
      "cell_type": "markdown",
      "source": [
        "* Train a simple convnet on the CIFAR dataset the first 5 output classes [0..4].\n",
        "* Freeze convolutional layers and fine-tune dense layers for the last 5 ouput classes [5..9].\n"
      ]
    },
    {
      "metadata": {
        "colab_type": "text",
        "id": "Cq8ejXHJyGYq"
      },
      "cell_type": "markdown",
      "source": [
        "### 1. Import CIFAR10 data and create 2 datasets with one dataset having classes from 0 to 4 and other having classes from 5 to 9 "
      ]
    },
    {
      "metadata": {
        "colab_type": "code",
        "id": "uWYbxnBayFUP",
        "colab": {
          "base_uri": "https://localhost:8080/",
          "height": 34
        },
        "outputId": "5e552dd5-de9e-420e-c71c-31884a00d845"
      },
      "cell_type": "code",
      "source": [
        "#Loading Libraries\n",
        "\n",
        "import keras\n",
        "from keras.constraints import maxnorm\n",
        "import numpy as np\n",
        "from keras.optimizers import SGD\n",
        "from numpy import zeros\n",
        "from keras.datasets import cifar10\n",
        "import matplotlib.pyplot as plt\n",
        "from keras.models import Sequential\n",
        "from keras.layers import Dense, Dropout, Activation, Flatten\n",
        "from keras.optimizers import Adam\n",
        "from keras.layers.normalization import BatchNormalization\n",
        "from keras.utils import np_utils\n",
        "from keras.layers import Conv2D, MaxPooling2D, ZeroPadding2D, GlobalAveragePooling2D,Convolution2D\n",
        "from keras.layers.advanced_activations import LeakyReLU \n",
        "from keras.preprocessing.image import ImageDataGenerator\n",
        "from sklearn.feature_extraction.text import CountVectorizer,TfidfVectorizer\n",
        "from sklearn.model_selection import train_test_split\n",
        "from sklearn.naive_bayes import MultinomialNB\n",
        "from sklearn.linear_model import LogisticRegression\n",
        "from sklearn import metrics\n",
        "from matplotlib import pyplot\n",
        "from scipy.misc import toimage\n",
        "from sklearn.pipeline import make_pipeline"
      ],
      "execution_count": 1,
      "outputs": [
        {
          "output_type": "stream",
          "text": [
            "Using TensorFlow backend.\n"
          ],
          "name": "stderr"
        }
      ]
    },
    {
      "metadata": {
        "id": "g8XW--L59vhh",
        "colab_type": "code",
        "colab": {}
      },
      "cell_type": "code",
      "source": [
        "#load CIFAR10 data\n",
        "nb_classes = 10\n",
        "#load mnist dataset\n",
        "(X_train, y_train), (X_test, y_test) = cifar10.load_data() #everytime loading data won't be so easy :)\n",
        "y_train = y_train.reshape(y_train.shape[0])  # somehow y_train comes as a 2D nx1 matrix\n",
        "y_test = y_test.reshape(y_test.shape[0])\n",
        "\n",
        "X_train = X_train.astype('float32')\n",
        "X_test = X_test.astype('float32')\n",
        "X_train /= 255\n",
        "X_test /= 255\n",
        "\n",
        "#one hot endcoding done for labels\n",
        "Y_train = np_utils.to_categorical(y_train, nb_classes)\n",
        "Y_test = np_utils.to_categorical(y_test, nb_classes)\n"
      ],
      "execution_count": 0,
      "outputs": []
    },
    {
      "metadata": {
        "id": "EMNYyWM29viB",
        "colab_type": "code",
        "colab": {
          "base_uri": "https://localhost:8080/",
          "height": 51
        },
        "outputId": "8aa4f3d2-fa83-4d9c-dbf9-f38be3dc2675"
      },
      "cell_type": "code",
      "source": [
        "print (Y_train.shape)\n",
        "print (Y_test.shape)\n"
      ],
      "execution_count": 5,
      "outputs": [
        {
          "output_type": "stream",
          "text": [
            "(50000, 10)\n",
            "(10000, 10)\n"
          ],
          "name": "stdout"
        }
      ]
    },
    {
      "metadata": {
        "id": "Vgf5LX579vik",
        "colab_type": "code",
        "colab": {}
      },
      "cell_type": "code",
      "source": [
        "\n",
        "nb_classes = 10\n",
        "class_name = {\n",
        "    0: 'airplane',\n",
        "    1: 'automobile',\n",
        "    2: 'bird',\n",
        "    3: 'cat',\n",
        "    4: 'deer',\n",
        "    5: 'dog',\n",
        "    6: 'frog',\n",
        "    7: 'horse',\n",
        "    8: 'ship',\n",
        "    9: 'truck',\n",
        "}\n",
        "\n",
        "def draw_img(i):\n",
        "    im = X_train[i]\n",
        "    c = y_train[i]\n",
        "    plt.imshow(im)\n",
        "    plt.title(\"Class %d (%s)\" % (c, class_name[c]))\n",
        "    plt.axis('on')\n",
        "\n",
        "def draw_sample(X, y, n, rows=4, cols=4, imfile=None, fontsize=12):\n",
        "    for i in range(0, rows*cols):\n",
        "        plt.subplot(rows, cols, i+1)\n",
        "        im = X[n+i].reshape(32,32,3)\n",
        "        plt.imshow(im, cmap='gnuplot2')\n",
        "        plt.title(\"{}\".format(class_name[y[n+i]]), fontsize=fontsize)\n",
        "        plt.axis('off')\n",
        "        plt.subplots_adjust(wspace=0.6, hspace=0.01)\n",
        "        #plt.subplots_adjust(hspace=0.45, wspace=0.45)\n",
        "        #plt.tight_layout(pad=0.4, w_pad=0.5, h_pad=1.0)\n",
        "    if imfile:\n",
        "        plt.savefig(imfile)\n"
      ],
      "execution_count": 0,
      "outputs": []
    },
    {
      "metadata": {
        "id": "bcQiJzIK9vis",
        "colab_type": "code",
        "colab": {
          "base_uri": "https://localhost:8080/",
          "height": 362
        },
        "outputId": "9d81c104-fc9c-422c-e336-edfe8bfbf380"
      },
      "cell_type": "code",
      "source": [
        "\n",
        "draw_img(7)\n"
      ],
      "execution_count": 7,
      "outputs": [
        {
          "output_type": "display_data",
          "data": {
            "image/png": "[encoded data removed]",
            "text/plain": [
              "<Figure size 576x396 with 1 Axes>"
            ]
          },
          "metadata": {
            "tags": []
          }
        }
      ]
    },
    {
      "metadata": {
        "id": "H2XKWE3p9vi6",
        "colab_type": "code",
        "colab": {}
      },
      "cell_type": "code",
      "source": [
        "aX_train = X_train[y_train <5 ]\n",
        "ay_train = Y_train[y_train <5]\n",
        "aX_test=X_test[y_test <5 ]\n",
        "ay_test=Y_test[y_test<5]\n",
        "    \n",
        "bX_train=   X_train[y_train >4 ]\n",
        "by_train=   Y_train[y_train >4]\n",
        "bX_test=   X_test[y_test >4 ]\n",
        "by_test= Y_test[y_test>4]"
      ],
      "execution_count": 0,
      "outputs": []
    },
    {
      "metadata": {
        "id": "l4Hq9ank9vjG",
        "colab_type": "code",
        "colab": {
          "base_uri": "https://localhost:8080/",
          "height": 153
        },
        "outputId": "694acaf5-6cf4-4394-d7db-4b5e59b9dc1b"
      },
      "cell_type": "code",
      "source": [
        "print(aX_train.shape)\n",
        "print(ay_train.shape)\n",
        "print(aX_test.shape)\n",
        "print(ay_test.shape)\n",
        "\n",
        "print(bX_train.shape)\n",
        "print(by_train.shape)\n",
        "print(bX_test.shape)\n",
        "print(by_test.shape)"
      ],
      "execution_count": 9,
      "outputs": [
        {
          "output_type": "stream",
          "text": [
            "(25000, 32, 32, 3)\n",
            "(25000, 10)\n",
            "(5000, 32, 32, 3)\n",
            "(5000, 10)\n",
            "(25000, 32, 32, 3)\n",
            "(25000, 10)\n",
            "(5000, 32, 32, 3)\n",
            "(5000, 10)\n"
          ],
          "name": "stdout"
        }
      ]
    },
    {
      "metadata": {
        "colab_type": "text",
        "id": "xtCKmQh4yXhT"
      },
      "cell_type": "markdown",
      "source": [
        "### 2. Use One-hot encoding to divide y_train and y_test into required no of output classes"
      ]
    },
    {
      "metadata": {
        "colab_type": "code",
        "id": "uN5O2kJ3yYa6",
        "colab": {}
      },
      "cell_type": "code",
      "source": [
        "#done above"
      ],
      "execution_count": 0,
      "outputs": []
    },
    {
      "metadata": {
        "colab_type": "text",
        "id": "cuOiKWfeybAl"
      },
      "cell_type": "markdown",
      "source": [
        "### 3. Build a sequential neural network model which can classify the classes 0 to 4 of CIFAR10 dataset with at least 80% accuracy on test data"
      ]
    },
    {
      "metadata": {
        "colab_type": "code",
        "id": "5HzxNbiiyoBD",
        "colab": {
          "base_uri": "https://localhost:8080/",
          "height": 2298
        },
        "outputId": "a4e2dd0e-1a48-42e5-e95b-658a5e4c0cee"
      },
      "cell_type": "code",
      "source": [
        "##model building\n",
        "\n",
        "#nb_epoch = 5\n",
        "nb_epoch = 50\n",
        "batch_size = 32\n",
        "\n",
        "model1 = Sequential()\n",
        "model1.add(Convolution2D(32, 3, 3, input_shape=(32, 32, 3), border_mode='same', activation='relu', W_constraint=maxnorm(3)))\n",
        "model1.add(Dropout(0.2))\n",
        "model1.add(Convolution2D(32, 3, 3, activation='relu', border_mode='same', W_constraint=maxnorm(3)))\n",
        "model1.add(MaxPooling2D(pool_size=(2, 2)))\n",
        "model1.add(Flatten())\n",
        "model1.add(Dense(512, activation='relu', W_constraint=maxnorm(3)))\n",
        "model1.add(Dropout(0.5))\n",
        "model1.add(Dense(nb_classes, activation='softmax'))\n",
        "# Compile model\n",
        "lrate = 0.01\n",
        "decay = lrate/nb_epoch\n",
        "sgd = SGD(lr=lrate, momentum=0.9, decay=decay, nesterov=False)\n",
        "#model1.compile(loss='categorical_crossentropy', optimizer=sgd, metrics=['accuracy'])\n",
        "model1.compile(loss='categorical_crossentropy', optimizer=keras.optimizers.Adadelta(), metrics=['accuracy'])\n",
        "#with sgd, the accuracy was 79%, hence the optimizer is changed to Adadelta() and got 81% for test data\n",
        "\n",
        "\n",
        "print(model1.summary())\n",
        "\n",
        "print('Standard Training.')\n",
        "\n",
        "h = model1.fit(\n",
        "    aX_train,\n",
        "    ay_train,\n",
        "    batch_size=batch_size,\n",
        "    nb_epoch=nb_epoch,\n",
        "    validation_data=(aX_test, ay_test),\n",
        "    shuffle=True\n",
        ")\n",
        "\n",
        "\n",
        "\n"
      ],
      "execution_count": 31,
      "outputs": [
        {
          "output_type": "stream",
          "text": [
            "/usr/local/lib/python3.6/dist-packages/ipykernel_launcher.py:5: UserWarning: Update your `Conv2D` call to the Keras 2 API: `Conv2D(32, (3, 3), input_shape=(32, 32, 3..., activation=\"relu\", padding=\"same\", kernel_constraint=<keras.con...)`\n",
            "  \"\"\"\n",
            "/usr/local/lib/python3.6/dist-packages/ipykernel_launcher.py:7: UserWarning: Update your `Conv2D` call to the Keras 2 API: `Conv2D(32, (3, 3), activation=\"relu\", padding=\"same\", kernel_constraint=<keras.con...)`\n",
            "  import sys\n",
            "/usr/local/lib/python3.6/dist-packages/ipykernel_launcher.py:10: UserWarning: Update your `Dense` call to the Keras 2 API: `Dense(512, activation=\"relu\", kernel_constraint=<keras.con...)`\n",
            "  # Remove the CWD from sys.path while we load stuff.\n",
            "/usr/local/lib/python3.6/dist-packages/ipykernel_launcher.py:31: UserWarning: The `nb_epoch` argument in `fit` has been renamed `epochs`.\n"
          ],
          "name": "stderr"
        },
        {
          "output_type": "stream",
          "text": [
            "_________________________________________________________________\n",
            "Layer (type)                 Output Shape              Param #   \n",
            "=================================================================\n",
            "conv2d_3 (Conv2D)            (None, 32, 32, 32)        896       \n",
            "_________________________________________________________________\n",
            "dropout_3 (Dropout)          (None, 32, 32, 32)        0         \n",
            "_________________________________________________________________\n",
            "conv2d_4 (Conv2D)            (None, 32, 32, 32)        9248      \n",
            "_________________________________________________________________\n",
            "max_pooling2d_2 (MaxPooling2 (None, 16, 16, 32)        0         \n",
            "_________________________________________________________________\n",
            "flatten_2 (Flatten)          (None, 8192)              0         \n",
            "_________________________________________________________________\n",
            "dense_3 (Dense)              (None, 512)               4194816   \n",
            "_________________________________________________________________\n",
            "dropout_4 (Dropout)          (None, 512)               0         \n",
            "_________________________________________________________________\n",
            "dense_4 (Dense)              (None, 10)                5130      \n",
            "=================================================================\n",
            "Total params: 4,210,090\n",
            "Trainable params: 4,210,090\n",
            "Non-trainable params: 0\n",
            "_________________________________________________________________\n",
            "None\n",
            "Standard Training.\n",
            "Train on 25000 samples, validate on 5000 samples\n",
            "Epoch 1/50\n",
            "25000/25000 [==============================] - 14s 562us/step - loss: 1.1131 - acc: 0.5478 - val_loss: 1.8002 - val_acc: 0.3856\n",
            "Epoch 2/50\n",
            "25000/25000 [==============================] - 13s 536us/step - loss: 0.8232 - acc: 0.6775 - val_loss: 0.8101 - val_acc: 0.6600\n",
            "Epoch 3/50\n",
            "25000/25000 [==============================] - 13s 534us/step - loss: 0.7072 - acc: 0.7244 - val_loss: 0.7461 - val_acc: 0.7054\n",
            "Epoch 4/50\n",
            "25000/25000 [==============================] - 13s 536us/step - loss: 0.6157 - acc: 0.7658 - val_loss: 0.6889 - val_acc: 0.7336\n",
            "Epoch 5/50\n",
            "25000/25000 [==============================] - 13s 534us/step - loss: 0.5426 - acc: 0.7960 - val_loss: 0.6880 - val_acc: 0.7408\n",
            "Epoch 6/50\n",
            "25000/25000 [==============================] - 13s 532us/step - loss: 0.4791 - acc: 0.8243 - val_loss: 0.6568 - val_acc: 0.7562\n",
            "Epoch 7/50\n",
            "25000/25000 [==============================] - 13s 534us/step - loss: 0.4111 - acc: 0.8486 - val_loss: 0.7296 - val_acc: 0.7492\n",
            "Epoch 8/50\n",
            "25000/25000 [==============================] - 13s 533us/step - loss: 0.3549 - acc: 0.8709 - val_loss: 0.6196 - val_acc: 0.7904\n",
            "Epoch 9/50\n",
            "25000/25000 [==============================] - 13s 535us/step - loss: 0.3115 - acc: 0.8874 - val_loss: 0.6750 - val_acc: 0.7776\n",
            "Epoch 10/50\n",
            "25000/25000 [==============================] - 13s 534us/step - loss: 0.2617 - acc: 0.9068 - val_loss: 0.8030 - val_acc: 0.7808\n",
            "Epoch 11/50\n",
            "25000/25000 [==============================] - 13s 534us/step - loss: 0.2313 - acc: 0.9171 - val_loss: 0.7375 - val_acc: 0.7890\n",
            "Epoch 12/50\n",
            "25000/25000 [==============================] - 13s 534us/step - loss: 0.1963 - acc: 0.9316 - val_loss: 0.8979 - val_acc: 0.7628\n",
            "Epoch 13/50\n",
            "25000/25000 [==============================] - 13s 535us/step - loss: 0.1690 - acc: 0.9411 - val_loss: 0.7759 - val_acc: 0.7836\n",
            "Epoch 14/50\n",
            "25000/25000 [==============================] - 13s 534us/step - loss: 0.1451 - acc: 0.9506 - val_loss: 0.7803 - val_acc: 0.7764\n",
            "Epoch 15/50\n",
            "25000/25000 [==============================] - 13s 534us/step - loss: 0.1313 - acc: 0.9557 - val_loss: 1.0455 - val_acc: 0.7678\n",
            "Epoch 16/50\n",
            "25000/25000 [==============================] - 13s 534us/step - loss: 0.1136 - acc: 0.9609 - val_loss: 0.8740 - val_acc: 0.7858\n",
            "Epoch 17/50\n",
            "25000/25000 [==============================] - 13s 535us/step - loss: 0.1035 - acc: 0.9656 - val_loss: 0.9946 - val_acc: 0.7730\n",
            "Epoch 18/50\n",
            "25000/25000 [==============================] - 13s 534us/step - loss: 0.0921 - acc: 0.9682 - val_loss: 0.9769 - val_acc: 0.7872\n",
            "Epoch 19/50\n",
            "25000/25000 [==============================] - 13s 533us/step - loss: 0.0837 - acc: 0.9721 - val_loss: 0.9816 - val_acc: 0.7844\n",
            "Epoch 20/50\n",
            "25000/25000 [==============================] - 13s 535us/step - loss: 0.0804 - acc: 0.9733 - val_loss: 1.0763 - val_acc: 0.7884\n",
            "Epoch 21/50\n",
            "25000/25000 [==============================] - 13s 533us/step - loss: 0.0764 - acc: 0.9749 - val_loss: 1.0133 - val_acc: 0.8032\n",
            "Epoch 22/50\n",
            "25000/25000 [==============================] - 13s 531us/step - loss: 0.0696 - acc: 0.9768 - val_loss: 0.9949 - val_acc: 0.7998\n",
            "Epoch 23/50\n",
            "25000/25000 [==============================] - 13s 537us/step - loss: 0.0638 - acc: 0.9779 - val_loss: 1.0283 - val_acc: 0.8014\n",
            "Epoch 24/50\n",
            "25000/25000 [==============================] - 13s 535us/step - loss: 0.0603 - acc: 0.9803 - val_loss: 1.0135 - val_acc: 0.7948\n",
            "Epoch 25/50\n",
            "25000/25000 [==============================] - 13s 535us/step - loss: 0.0630 - acc: 0.9788 - val_loss: 1.0263 - val_acc: 0.7952\n",
            "Epoch 26/50\n",
            "25000/25000 [==============================] - 13s 533us/step - loss: 0.0564 - acc: 0.9824 - val_loss: 1.0271 - val_acc: 0.7920\n",
            "Epoch 27/50\n",
            "25000/25000 [==============================] - 13s 539us/step - loss: 0.0527 - acc: 0.9820 - val_loss: 1.1370 - val_acc: 0.7938\n",
            "Epoch 28/50\n",
            "25000/25000 [==============================] - 13s 535us/step - loss: 0.0539 - acc: 0.9829 - val_loss: 0.9647 - val_acc: 0.7950\n",
            "Epoch 29/50\n",
            "25000/25000 [==============================] - 13s 536us/step - loss: 0.0502 - acc: 0.9839 - val_loss: 1.0148 - val_acc: 0.7990\n",
            "Epoch 30/50\n",
            "25000/25000 [==============================] - 13s 534us/step - loss: 0.0504 - acc: 0.9837 - val_loss: 1.1957 - val_acc: 0.7948\n",
            "Epoch 31/50\n",
            "25000/25000 [==============================] - 13s 534us/step - loss: 0.0467 - acc: 0.9858 - val_loss: 1.1080 - val_acc: 0.7964\n",
            "Epoch 32/50\n",
            "25000/25000 [==============================] - 13s 534us/step - loss: 0.0409 - acc: 0.9864 - val_loss: 1.1092 - val_acc: 0.7886\n",
            "Epoch 33/50\n",
            "25000/25000 [==============================] - 13s 534us/step - loss: 0.0436 - acc: 0.9864 - val_loss: 1.1884 - val_acc: 0.7894\n",
            "Epoch 34/50\n",
            "25000/25000 [==============================] - 13s 536us/step - loss: 0.0414 - acc: 0.9866 - val_loss: 1.1603 - val_acc: 0.7918\n",
            "Epoch 35/50\n",
            "25000/25000 [==============================] - 13s 534us/step - loss: 0.0440 - acc: 0.9852 - val_loss: 1.1016 - val_acc: 0.7902\n",
            "Epoch 36/50\n",
            "25000/25000 [==============================] - 13s 533us/step - loss: 0.0383 - acc: 0.9872 - val_loss: 1.2324 - val_acc: 0.7982\n",
            "Epoch 37/50\n",
            "25000/25000 [==============================] - 13s 533us/step - loss: 0.0381 - acc: 0.9876 - val_loss: 1.1946 - val_acc: 0.7974\n",
            "Epoch 38/50\n",
            "25000/25000 [==============================] - 13s 531us/step - loss: 0.0402 - acc: 0.9872 - val_loss: 1.1617 - val_acc: 0.7998\n",
            "Epoch 39/50\n",
            "25000/25000 [==============================] - 13s 531us/step - loss: 0.0345 - acc: 0.9894 - val_loss: 1.3578 - val_acc: 0.7948\n",
            "Epoch 40/50\n",
            "25000/25000 [==============================] - 13s 531us/step - loss: 0.0338 - acc: 0.9891 - val_loss: 1.2081 - val_acc: 0.7916\n",
            "Epoch 41/50\n",
            "25000/25000 [==============================] - 13s 533us/step - loss: 0.0372 - acc: 0.9880 - val_loss: 1.2149 - val_acc: 0.7928\n",
            "Epoch 42/50\n",
            "25000/25000 [==============================] - 13s 532us/step - loss: 0.0344 - acc: 0.9889 - val_loss: 1.2563 - val_acc: 0.8016\n",
            "Epoch 43/50\n",
            "25000/25000 [==============================] - 13s 531us/step - loss: 0.0310 - acc: 0.9900 - val_loss: 1.2949 - val_acc: 0.7822\n",
            "Epoch 44/50\n",
            "25000/25000 [==============================] - 13s 531us/step - loss: 0.0377 - acc: 0.9883 - val_loss: 1.1984 - val_acc: 0.8070\n",
            "Epoch 45/50\n",
            "25000/25000 [==============================] - 13s 533us/step - loss: 0.0303 - acc: 0.9905 - val_loss: 1.1883 - val_acc: 0.7994\n",
            "Epoch 46/50\n",
            "25000/25000 [==============================] - 13s 534us/step - loss: 0.0286 - acc: 0.9910 - val_loss: 1.2469 - val_acc: 0.7936\n",
            "Epoch 47/50\n",
            "25000/25000 [==============================] - 13s 531us/step - loss: 0.0326 - acc: 0.9895 - val_loss: 1.3463 - val_acc: 0.7876\n",
            "Epoch 48/50\n",
            "25000/25000 [==============================] - 13s 532us/step - loss: 0.0334 - acc: 0.9892 - val_loss: 1.2149 - val_acc: 0.7928\n",
            "Epoch 49/50\n",
            "25000/25000 [==============================] - 13s 532us/step - loss: 0.0281 - acc: 0.9912 - val_loss: 1.4194 - val_acc: 0.7940\n",
            "Epoch 50/50\n",
            "25000/25000 [==============================] - 13s 532us/step - loss: 0.0284 - acc: 0.9907 - val_loss: 1.1883 - val_acc: 0.8104\n"
          ],
          "name": "stdout"
        }
      ]
    },
    {
      "metadata": {
        "id": "Ii83GLW09vkY",
        "colab_type": "code",
        "colab": {}
      },
      "cell_type": "code",
      "source": [
        "def show_scores(model, h, X_train, Y_train, X_test, Y_test):\n",
        "    loss, acc = model.evaluate(X_train, Y_train, verbose=0)\n",
        "    print(\"Training: accuracy   = %.6f loss = %.6f\" % (acc, loss))\n",
        "    loss, acc = model.evaluate(X_test, Y_test, verbose=0)\n",
        "    print(\"Validation: accuracy = %.6f loss = %.6f\" % (acc, loss))\n",
        "    if 'val_acc' in h.history:\n",
        "        print(\"Over fitting score   = %.6f\" % over_fitting_score(h))\n",
        "        print(\"Under fitting score  = %.6f\" % under_fitting_score(h))\n",
        "    print(\"Params count:\", model.count_params())\n",
        "    print(\"stop epoch =\", max(h.epoch))\n",
        "    #print(\"n_epoch =\", h.params['n_epoch'])\n",
        "    print(\"batch_size =\", h.params['batch_size'])\n",
        "    #print(\"n_sample =\", h.params['n_sample'])\n",
        "    view_acc(h)\n",
        "    id = model.name[-1]\n",
        "    plt.savefig(model.name + '_acc_graph.png')\n",
        "    plt.show()\n",
        "    view_loss(h)\n",
        "    plt.savefig(model.name + '_loss_graph.png')\n",
        "    plt.show()"
      ],
      "execution_count": 0,
      "outputs": []
    },
    {
      "metadata": {
        "id": "a2Eu4Ohp9vkd",
        "colab_type": "code",
        "colab": {}
      },
      "cell_type": "code",
      "source": [
        "def view_acc(h):\n",
        "    # Accuracy history graph\n",
        "    plt.plot(h.history['acc'])\n",
        "    if 'val_acc' in h.history:\n",
        "        plt.plot(h.history['val_acc'])\n",
        "    plt.title('model accuracy')\n",
        "    plt.ylabel('accuracy')\n",
        "    plt.xlabel('epoch')\n",
        "    leg = plt.legend(['train', 'validation'], loc='best')\n",
        "    plt.setp(leg.get_lines(), linewidth=3.0)"
      ],
      "execution_count": 0,
      "outputs": []
    },
    {
      "metadata": {
        "id": "7_9QRYbe9vkl",
        "colab_type": "code",
        "colab": {}
      },
      "cell_type": "code",
      "source": [
        "def under_fitting_score(h):\n",
        "    gap = []\n",
        "    for i in h.epoch:\n",
        "        acc = h.history['acc'][i]\n",
        "        val_acc = h.history['val_acc'][i]\n",
        "        gap.append(abs(acc-val_acc))\n",
        "    gap = np.array(gap)\n",
        "    return gap.mean()"
      ],
      "execution_count": 0,
      "outputs": []
    },
    {
      "metadata": {
        "id": "LyZedGey9vlF",
        "colab_type": "code",
        "colab": {}
      },
      "cell_type": "code",
      "source": [
        "def over_fitting_score(h):\n",
        "    gap = []\n",
        "    n = len(h.epoch)\n",
        "    for i in h.epoch:\n",
        "        acc = h.history['acc'][i]\n",
        "        val_acc = h.history['val_acc'][i]\n",
        "        # late gaps get higher weight ..\n",
        "        gap.append( i * abs(acc-val_acc))\n",
        "    ofs = sum(gap) / (n * (n-1) / 2)\n",
        "    return ofs"
      ],
      "execution_count": 0,
      "outputs": []
    },
    {
      "metadata": {
        "id": "wxRcqIbp9vmC",
        "colab_type": "code",
        "colab": {}
      },
      "cell_type": "code",
      "source": [
        "def view_loss(h):\n",
        "    # Loss history graph\n",
        "    plt.plot(h.history['loss'])\n",
        "    if 'val_loss' in h.history:\n",
        "        plt.plot(h.history['val_loss'])\n",
        "    plt.title('model loss')\n",
        "    plt.ylabel('loss')\n",
        "    plt.xlabel('epoch')\n",
        "    leg = plt.legend(['train', 'validation'], loc='best')\n",
        "    plt.setp(leg.get_lines(), linewidth=3.0)"
      ],
      "execution_count": 0,
      "outputs": []
    },
    {
      "metadata": {
        "id": "7JiM4h9_9vm8",
        "colab_type": "code",
        "colab": {
          "base_uri": "https://localhost:8080/",
          "height": 871
        },
        "outputId": "87eb0449-9800-4855-b2a1-bd2a53c36d12"
      },
      "cell_type": "code",
      "source": [
        "show_scores(model1, h, aX_train, ay_train, aX_test, ay_test)\n",
        "print('Saving model1 to the file \"model1.h5\"')\n",
        "model1.save(\"model1.h5\")"
      ],
      "execution_count": 33,
      "outputs": [
        {
          "output_type": "stream",
          "text": [
            "Training: accuracy   = 0.999880 loss = 0.000429\n",
            "Validation: accuracy = 0.810400 loss = 1.188258\n",
            "Over fitting score   = 0.185600\n",
            "Under fitting score  = 0.164213\n",
            "Params count: 4210090\n",
            "stop epoch = 49\n",
            "batch_size = 32\n"
          ],
          "name": "stdout"
        },
        {
          "output_type": "display_data",
          "data": {
            "image/png": "[encoded data removed]",
            "text/plain": [
              "<Figure size 576x396 with 1 Axes>"
            ]
          },
          "metadata": {
            "tags": []
          }
        },
        {
          "output_type": "display_data",
          "data": {
            "image/png": "[encoded data removed]",
            "text/plain": [
              "<Figure size 576x396 with 1 Axes>"
            ]
          },
          "metadata": {
            "tags": []
          }
        },
        {
          "output_type": "stream",
          "text": [
            "Saving model1 to the file \"model1.h5\"\n"
          ],
          "name": "stdout"
        }
      ]
    },
    {
      "metadata": {
        "colab_type": "text",
        "id": "woTfNst_ynRG"
      },
      "cell_type": "markdown",
      "source": [
        "### 4. In the model which was built above (for classification of classes 0-4 in CIFAR10), make only the dense layers to be trainable and conv layers to be non-trainable"
      ]
    },
    {
      "metadata": {
        "colab_type": "code",
        "id": "o_VCDB3Byb1a",
        "colab": {
          "base_uri": "https://localhost:8080/",
          "height": 153
        },
        "outputId": "65b75a43-c6ca-4b15-807f-d9bf903f0ad5"
      },
      "cell_type": "code",
      "source": [
        "for layer in model1.layers[:8]:\n",
        "       print (layer.name)\n",
        "       if 'dense'  in layer.name:\n",
        "         layer.trainabe=True\n",
        "       if 'conv2d' in layer.name:\n",
        "         layer.trainable=False"
      ],
      "execution_count": 18,
      "outputs": [
        {
          "output_type": "stream",
          "text": [
            "conv2d_1\n",
            "dropout_1\n",
            "conv2d_2\n",
            "max_pooling2d_1\n",
            "flatten_1\n",
            "dense_1\n",
            "dropout_2\n",
            "dense_2\n"
          ],
          "name": "stdout"
        }
      ]
    },
    {
      "metadata": {
        "colab_type": "text",
        "id": "1-uUPqWpyeyX"
      },
      "cell_type": "markdown",
      "source": [
        "### 5. Utilize the the model trained on CIFAR 10 (classes 0 to 4) to classify the classes 5 to 9 of CIFAR 10  (Use Transfer Learning) <br>\n",
        "Achieve an accuracy of more than 85% on test data"
      ]
    },
    {
      "metadata": {
        "colab_type": "code",
        "id": "szHjJgDvyfCt",
        "colab": {
          "base_uri": "https://localhost:8080/",
          "height": 1788
        },
        "outputId": "406e0954-22f1-42ae-bdee-1f7320f15fe4"
      },
      "cell_type": "code",
      "source": [
        "h = model1.fit(\n",
        "    bX_train,\n",
        "    by_train,\n",
        "    batch_size=batch_size,\n",
        "    nb_epoch=nb_epoch,\n",
        "    validation_data=(bX_test, by_test),\n",
        "    shuffle=True\n",
        ")"
      ],
      "execution_count": 34,
      "outputs": [
        {
          "output_type": "stream",
          "text": [
            "Train on 25000 samples, validate on 5000 samples\n",
            "Epoch 1/50\n",
            "  320/25000 [..............................] - ETA: 15s - loss: 4.8197 - acc: 0.1313"
          ],
          "name": "stdout"
        },
        {
          "output_type": "stream",
          "text": [
            "/usr/local/lib/python3.6/dist-packages/ipykernel_launcher.py:7: UserWarning: The `nb_epoch` argument in `fit` has been renamed `epochs`.\n",
            "  import sys\n"
          ],
          "name": "stderr"
        },
        {
          "output_type": "stream",
          "text": [
            "25000/25000 [==============================] - 13s 539us/step - loss: 0.8124 - acc: 0.7084 - val_loss: 0.4844 - val_acc: 0.8184\n",
            "Epoch 2/50\n",
            "25000/25000 [==============================] - 13s 538us/step - loss: 0.4541 - acc: 0.8388 - val_loss: 0.4147 - val_acc: 0.8534\n",
            "Epoch 3/50\n",
            "25000/25000 [==============================] - 13s 536us/step - loss: 0.3522 - acc: 0.8752 - val_loss: 0.3887 - val_acc: 0.8588\n",
            "Epoch 4/50\n",
            "25000/25000 [==============================] - 13s 534us/step - loss: 0.2788 - acc: 0.9000 - val_loss: 0.3764 - val_acc: 0.8658\n",
            "Epoch 5/50\n",
            "25000/25000 [==============================] - 13s 537us/step - loss: 0.2275 - acc: 0.9192 - val_loss: 0.3623 - val_acc: 0.8748\n",
            "Epoch 6/50\n",
            "25000/25000 [==============================] - 13s 534us/step - loss: 0.1818 - acc: 0.9362 - val_loss: 0.3986 - val_acc: 0.8764\n",
            "Epoch 7/50\n",
            "25000/25000 [==============================] - 13s 536us/step - loss: 0.1579 - acc: 0.9448 - val_loss: 0.3846 - val_acc: 0.8822\n",
            "Epoch 8/50\n",
            "25000/25000 [==============================] - 13s 533us/step - loss: 0.1315 - acc: 0.9560 - val_loss: 0.4244 - val_acc: 0.8782\n",
            "Epoch 9/50\n",
            "25000/25000 [==============================] - 13s 534us/step - loss: 0.1133 - acc: 0.9628 - val_loss: 0.4314 - val_acc: 0.8808\n",
            "Epoch 10/50\n",
            "25000/25000 [==============================] - 13s 534us/step - loss: 0.0979 - acc: 0.9668 - val_loss: 0.4032 - val_acc: 0.8860\n",
            "Epoch 11/50\n",
            "25000/25000 [==============================] - 13s 534us/step - loss: 0.0856 - acc: 0.9722 - val_loss: 0.5062 - val_acc: 0.8754\n",
            "Epoch 12/50\n",
            "25000/25000 [==============================] - 13s 535us/step - loss: 0.0769 - acc: 0.9744 - val_loss: 0.4660 - val_acc: 0.8874\n",
            "Epoch 13/50\n",
            "25000/25000 [==============================] - 13s 534us/step - loss: 0.0710 - acc: 0.9757 - val_loss: 0.4860 - val_acc: 0.8830\n",
            "Epoch 14/50\n",
            "25000/25000 [==============================] - 13s 535us/step - loss: 0.0661 - acc: 0.9784 - val_loss: 0.4291 - val_acc: 0.8774\n",
            "Epoch 15/50\n",
            "25000/25000 [==============================] - 13s 534us/step - loss: 0.0587 - acc: 0.9806 - val_loss: 0.4416 - val_acc: 0.8870\n",
            "Epoch 16/50\n",
            "25000/25000 [==============================] - 13s 534us/step - loss: 0.0597 - acc: 0.9810 - val_loss: 0.5929 - val_acc: 0.8878\n",
            "Epoch 17/50\n",
            "25000/25000 [==============================] - 13s 534us/step - loss: 0.0546 - acc: 0.9833 - val_loss: 0.5588 - val_acc: 0.8904\n",
            "Epoch 18/50\n",
            "25000/25000 [==============================] - 13s 532us/step - loss: 0.0493 - acc: 0.9842 - val_loss: 0.4690 - val_acc: 0.8884\n",
            "Epoch 19/50\n",
            "25000/25000 [==============================] - 13s 533us/step - loss: 0.0529 - acc: 0.9830 - val_loss: 0.5688 - val_acc: 0.8776\n",
            "Epoch 20/50\n",
            "25000/25000 [==============================] - 13s 534us/step - loss: 0.0485 - acc: 0.9838 - val_loss: 0.5281 - val_acc: 0.8852\n",
            "Epoch 21/50\n",
            "25000/25000 [==============================] - 13s 540us/step - loss: 0.0426 - acc: 0.9848 - val_loss: 0.5155 - val_acc: 0.8830\n",
            "Epoch 22/50\n",
            "25000/25000 [==============================] - 13s 534us/step - loss: 0.0457 - acc: 0.9852 - val_loss: 0.5318 - val_acc: 0.8742\n",
            "Epoch 23/50\n",
            "25000/25000 [==============================] - 13s 537us/step - loss: 0.0422 - acc: 0.9864 - val_loss: 0.6863 - val_acc: 0.8848\n",
            "Epoch 24/50\n",
            "25000/25000 [==============================] - 13s 535us/step - loss: 0.0433 - acc: 0.9863 - val_loss: 0.6572 - val_acc: 0.8758\n",
            "Epoch 25/50\n",
            "25000/25000 [==============================] - 13s 533us/step - loss: 0.0401 - acc: 0.9873 - val_loss: 0.5390 - val_acc: 0.8864\n",
            "Epoch 26/50\n",
            "25000/25000 [==============================] - 13s 534us/step - loss: 0.0388 - acc: 0.9869 - val_loss: 0.5695 - val_acc: 0.8820\n",
            "Epoch 27/50\n",
            "25000/25000 [==============================] - 13s 533us/step - loss: 0.0369 - acc: 0.9886 - val_loss: 0.5612 - val_acc: 0.8706\n",
            "Epoch 28/50\n",
            "25000/25000 [==============================] - 13s 534us/step - loss: 0.0348 - acc: 0.9889 - val_loss: 0.5785 - val_acc: 0.8870\n",
            "Epoch 29/50\n",
            "25000/25000 [==============================] - 13s 533us/step - loss: 0.0309 - acc: 0.9899 - val_loss: 0.6910 - val_acc: 0.8830\n",
            "Epoch 30/50\n",
            "25000/25000 [==============================] - 13s 535us/step - loss: 0.0318 - acc: 0.9908 - val_loss: 0.5337 - val_acc: 0.8802\n",
            "Epoch 31/50\n",
            "25000/25000 [==============================] - 13s 531us/step - loss: 0.0292 - acc: 0.9909 - val_loss: 0.6127 - val_acc: 0.8820\n",
            "Epoch 32/50\n",
            "25000/25000 [==============================] - 13s 531us/step - loss: 0.0294 - acc: 0.9910 - val_loss: 0.5475 - val_acc: 0.8828\n",
            "Epoch 33/50\n",
            "25000/25000 [==============================] - 13s 531us/step - loss: 0.0290 - acc: 0.9915 - val_loss: 0.6034 - val_acc: 0.8808\n",
            "Epoch 34/50\n",
            "25000/25000 [==============================] - 13s 531us/step - loss: 0.0264 - acc: 0.9918 - val_loss: 0.5860 - val_acc: 0.8896\n",
            "Epoch 35/50\n",
            "25000/25000 [==============================] - 13s 530us/step - loss: 0.0261 - acc: 0.9916 - val_loss: 0.5646 - val_acc: 0.8852\n",
            "Epoch 36/50\n",
            "25000/25000 [==============================] - 13s 532us/step - loss: 0.0210 - acc: 0.9925 - val_loss: 0.6570 - val_acc: 0.8820\n",
            "Epoch 37/50\n",
            "25000/25000 [==============================] - 13s 530us/step - loss: 0.0238 - acc: 0.9922 - val_loss: 0.6666 - val_acc: 0.8806\n",
            "Epoch 38/50\n",
            "25000/25000 [==============================] - 13s 535us/step - loss: 0.0240 - acc: 0.9926 - val_loss: 0.5886 - val_acc: 0.8840\n",
            "Epoch 39/50\n",
            "25000/25000 [==============================] - 13s 535us/step - loss: 0.0196 - acc: 0.9940 - val_loss: 0.6374 - val_acc: 0.8712\n",
            "Epoch 40/50\n",
            "25000/25000 [==============================] - 13s 538us/step - loss: 0.0207 - acc: 0.9935 - val_loss: 0.6253 - val_acc: 0.8922\n",
            "Epoch 41/50\n",
            "25000/25000 [==============================] - 13s 535us/step - loss: 0.0193 - acc: 0.9940 - val_loss: 0.6465 - val_acc: 0.8928\n",
            "Epoch 42/50\n",
            "25000/25000 [==============================] - 13s 535us/step - loss: 0.0194 - acc: 0.9943 - val_loss: 0.6653 - val_acc: 0.8828\n",
            "Epoch 43/50\n",
            "25000/25000 [==============================] - 13s 535us/step - loss: 0.0179 - acc: 0.9946 - val_loss: 0.6898 - val_acc: 0.8604\n",
            "Epoch 44/50\n",
            "25000/25000 [==============================] - 13s 536us/step - loss: 0.0222 - acc: 0.9932 - val_loss: 0.7222 - val_acc: 0.8788\n",
            "Epoch 45/50\n",
            "25000/25000 [==============================] - 13s 534us/step - loss: 0.0188 - acc: 0.9941 - val_loss: 0.7040 - val_acc: 0.8872\n",
            "Epoch 46/50\n",
            "25000/25000 [==============================] - 13s 533us/step - loss: 0.0206 - acc: 0.9942 - val_loss: 0.6826 - val_acc: 0.8842\n",
            "Epoch 47/50\n",
            "25000/25000 [==============================] - 13s 532us/step - loss: 0.0210 - acc: 0.9937 - val_loss: 0.6497 - val_acc: 0.8894\n",
            "Epoch 48/50\n",
            "25000/25000 [==============================] - 13s 535us/step - loss: 0.0194 - acc: 0.9944 - val_loss: 0.7112 - val_acc: 0.8868\n",
            "Epoch 49/50\n",
            "25000/25000 [==============================] - 13s 534us/step - loss: 0.0186 - acc: 0.9944 - val_loss: 0.7535 - val_acc: 0.8802\n",
            "Epoch 50/50\n",
            "25000/25000 [==============================] - 13s 536us/step - loss: 0.0140 - acc: 0.9958 - val_loss: 0.6592 - val_acc: 0.8860\n"
          ],
          "name": "stdout"
        }
      ]
    },
    {
      "metadata": {
        "id": "FVgdnWZd9vog",
        "colab_type": "code",
        "colab": {
          "base_uri": "https://localhost:8080/",
          "height": 871
        },
        "outputId": "03ea3e87-cd6d-4faa-b308-3a902b980b2b"
      },
      "cell_type": "code",
      "source": [
        "show_scores(model1, h, bX_train, by_train, bX_test, by_test)\n",
        "print('Saving model1 to the file \"model1.h5\"')\n",
        "model1.save(\"model2.h5\")"
      ],
      "execution_count": 35,
      "outputs": [
        {
          "output_type": "stream",
          "text": [
            "Training: accuracy   = 0.999880 loss = 0.000371\n",
            "Validation: accuracy = 0.886000 loss = 0.659235\n",
            "Over fitting score   = 0.106365\n",
            "Under fitting score  = 0.096260\n",
            "Params count: 4210090\n",
            "stop epoch = 49\n",
            "batch_size = 32\n"
          ],
          "name": "stdout"
        },
        {
          "output_type": "display_data",
          "data": {
            "image/png": "[encoded data removed]",
            "text/plain": [
              "<Figure size 576x396 with 1 Axes>"
            ]
          },
          "metadata": {
            "tags": []
          }
        },
        {
          "output_type": "display_data",
          "data": {
            "image/png": "[encoded data removed]",
            "text/plain": [
              "<Figure size 576x396 with 1 Axes>"
            ]
          },
          "metadata": {
            "tags": []
          }
        },
        {
          "output_type": "stream",
          "text": [
            "Saving model1 to the file \"model1.h5\"\n"
          ],
          "name": "stdout"
        }
      ]
    },
    {
      "metadata": {
        "colab_type": "text",
        "id": "0zDuRecXzEtr"
      },
      "cell_type": "markdown",
      "source": [
        "# Text classification using TF-IDF"
      ]
    },
    {
      "metadata": {
        "colab_type": "text",
        "id": "xMPlEJhHzb6P"
      },
      "cell_type": "markdown",
      "source": [
        "### 6. Load the dataset from sklearn.datasets"
      ]
    },
    {
      "metadata": {
        "colab_type": "code",
        "id": "Fe-B59u3zHNb",
        "colab": {}
      },
      "cell_type": "code",
      "source": [
        "from sklearn.datasets import fetch_20newsgroups"
      ],
      "execution_count": 0,
      "outputs": []
    },
    {
      "metadata": {
        "colab_type": "code",
        "id": "PRrMemVQzbHU",
        "colab": {}
      },
      "cell_type": "code",
      "source": [
        "categories = ['alt.atheism', 'soc.religion.christian', 'comp.graphics', 'sci.med']"
      ],
      "execution_count": 0,
      "outputs": []
    },
    {
      "metadata": {
        "colab_type": "text",
        "id": "-sZX0UbJzmg5"
      },
      "cell_type": "markdown",
      "source": [
        "### 7. Training data"
      ]
    },
    {
      "metadata": {
        "colab_type": "code",
        "id": "CITr_5aXziJ2",
        "colab": {
          "base_uri": "https://localhost:8080/",
          "height": 51
        },
        "outputId": "a720d7d0-7908-4998-901b-ec6eb7c820dd"
      },
      "cell_type": "code",
      "source": [
        "twenty_train = fetch_20newsgroups(subset='train', categories=categories, shuffle=True, random_state=42)"
      ],
      "execution_count": 23,
      "outputs": [
        {
          "output_type": "stream",
          "text": [
            "Downloading 20news dataset. This may take a few minutes.\n",
            "Downloading dataset from https://ndownloader.figshare.com/files/5975967 (14 MB)\n"
          ],
          "name": "stderr"
        }
      ]
    },
    {
      "metadata": {
        "colab_type": "text",
        "id": "xcESc5QXzr6p"
      },
      "cell_type": "markdown",
      "source": [
        "### 8. Test data"
      ]
    },
    {
      "metadata": {
        "colab_type": "code",
        "id": "ysInblUMzpvl",
        "colab": {}
      },
      "cell_type": "code",
      "source": [
        "twenty_test = fetch_20newsgroups(subset='test', categories=categories, shuffle=True, random_state=42)"
      ],
      "execution_count": 0,
      "outputs": []
    },
    {
      "metadata": {
        "colab_type": "text",
        "id": "DriL2yZ50DQq"
      },
      "cell_type": "markdown",
      "source": [
        "###  a.  You can access the values for the target variable using .target attribute \n",
        "###  b. You can access the name of the class in the target variable with .target_names\n"
      ]
    },
    {
      "metadata": {
        "colab_type": "code",
        "id": "vlUuai99z1hX",
        "colab": {
          "base_uri": "https://localhost:8080/",
          "height": 34
        },
        "outputId": "2da10446-264a-49ac-9428-6d90f65096b8"
      },
      "cell_type": "code",
      "source": [
        "twenty_train.target"
      ],
      "execution_count": 25,
      "outputs": [
        {
          "output_type": "execute_result",
          "data": {
            "text/plain": [
              "array([1, 1, 3, ..., 2, 2, 2])"
            ]
          },
          "metadata": {
            "tags": []
          },
          "execution_count": 25
        }
      ]
    },
    {
      "metadata": {
        "colab_type": "code",
        "id": "VEKzaDfSz5E-",
        "colab": {
          "base_uri": "https://localhost:8080/",
          "height": 34
        },
        "outputId": "f606d744-87e6-48db-b544-ce35feba0835"
      },
      "cell_type": "code",
      "source": [
        "twenty_train.target_names"
      ],
      "execution_count": 26,
      "outputs": [
        {
          "output_type": "execute_result",
          "data": {
            "text/plain": [
              "['alt.atheism', 'comp.graphics', 'sci.med', 'soc.religion.christian']"
            ]
          },
          "metadata": {
            "tags": []
          },
          "execution_count": 26
        }
      ]
    },
    {
      "metadata": {
        "colab_type": "code",
        "id": "clBMKHzC0_N1",
        "colab": {
          "base_uri": "https://localhost:8080/",
          "height": 122
        },
        "outputId": "0ad6a85e-2bd7-49d1-895d-794f05f88998"
      },
      "cell_type": "code",
      "source": [
        "twenty_train.data[0:5]"
      ],
      "execution_count": 27,
      "outputs": [
        {
          "output_type": "execute_result",
          "data": {
            "text/plain": [
              "['From: sd345@city.ac.uk (Michael Collier)\\nSubject: Converting images to HP LaserJet III?\\nNntp-Posting-Host: hampton\\nOrganization: The City University\\nLines: 14\\n\\nDoes anyone know of a good way (standard PC application/PD utility) to\\nconvert tif/img/tga files into LaserJet III format.  We would also like to\\ndo the same, converting to HPGL (HP plotter) files.\\n\\nPlease email any response.\\n\\nIs this the correct group?\\n\\nThanks in advance.  Michael.\\n-- \\nMichael Collier (Programmer)                 The Computer Unit,\\nEmail: M.P.Collier@uk.ac.city                The City University,\\nTel: 071 477-8000 x3769                      London,\\nFax: 071 477-8565                            EC1V 0HB.\\n',\n",
              " \"From: ani@ms.uky.edu (Aniruddha B. Deglurkar)\\nSubject: help: Splitting a trimming region along a mesh \\nOrganization: University Of Kentucky, Dept. of Math Sciences\\nLines: 28\\n\\n\\n\\n\\tHi,\\n\\n\\tI have a problem, I hope some of the 'gurus' can help me solve.\\n\\n\\tBackground of the problem:\\n\\tI have a rectangular mesh in the uv domain, i.e  the mesh is a \\n\\tmapping of a 3d Bezier patch into 2d. The area in this domain\\n\\twhich is inside a trimming loop had to be rendered. The trimming\\n\\tloop is a set of 2d Bezier curve segments.\\n\\tFor the sake of notation: the mesh is made up of cells.\\n\\n\\tMy problem is this :\\n\\tThe trimming area has to be split up into individual smaller\\n\\tcells bounded by the trimming curve segments. If a cell\\n\\tis wholly inside the area...then it is output as a whole ,\\n\\telse it is trivially rejected. \\n\\n\\tDoes any body know how thiss can be done, or is there any algo. \\n\\tsomewhere for doing this.\\n\\n\\tAny help would be appreciated.\\n\\n\\tThanks, \\n\\tAni.\\n-- \\nTo get irritated is human, to stay cool, divine.\\n\",\n",
              " \"From: djohnson@cs.ucsd.edu (Darin Johnson)\\nSubject: Re: harrassed at work, could use some prayers\\nOrganization: =CSE Dept., U.C. San Diego\\nLines: 63\\n\\n(Well, I'll email also, but this may apply to other people, so\\nI'll post also.)\\n\\n>I've been working at this company for eight years in various\\n>engineering jobs.  I'm female.  Yesterday I counted and realized that\\n>on seven different occasions I've been sexually harrassed at this\\n>company.\\n\\n>I dreaded coming back to work today.  What if my boss comes in to ask\\n>me some kind of question...\\n\\nYour boss should be the person bring these problems to.  If he/she\\ndoes not seem to take any action, keep going up higher and higher.\\nSexual harrassment does not need to be tolerated, and it can be an\\nenormous emotional support to discuss this with someone and know that\\nthey are trying to do something about it.  If you feel you can not\\ndiscuss this with your boss, perhaps your company has a personnel\\ndepartment that can work for you while preserving your privacy.  Most\\ncompanies will want to deal with this problem because constant anxiety\\ndoes seriously affect how effectively employees do their jobs.\\n\\nIt is unclear from your letter if you have done this or not.  It is\\nnot inconceivable that management remains ignorant of employee\\nproblems/strife even after eight years (it's a miracle if they do\\nnotice).  Perhaps your manager did not bring to the attention of\\nhigher ups?  If the company indeed does seem to want to ignore the\\nentire problem, there may be a state agency willing to fight with\\nyou.  (check with a lawyer, a women's resource center, etc to find out)\\n\\nYou may also want to discuss this with your paster, priest, husband,\\netc.  That is, someone you know will not be judgemental and that is\\nsupportive, comforting, etc.  This will bring a lot of healing.\\n\\n>So I returned at 11:25, only to find that ever single\\n>person had already left for lunch.  They left at 11:15 or so.  No one\\n>could be bothered to call me at the other building, even though my\\n>number was posted.\\n\\nThis happens to a lot of people.  Honest.  I believe it may seem\\nto be due to gross insensitivity because of the feelings you are\\ngoing through.  People in offices tend to be more insensitive while\\nworking than they normally are (maybe it's the hustle or stress or...)\\nI've had this happen to me a lot, often because they didn't realize\\nmy car was broken, etc.  Then they will come back and wonder why I\\ndidn't want to go (this would tend to make me stop being angry at\\nbeing ignored and make me laugh).  Once, we went off without our\\nboss, who was paying for the lunch :-)\\n\\n>For this\\n>reason I hope good Mr. Moderator allows me this latest indulgence.\\n\\nWell, if you can't turn to the computer for support, what would\\nwe do?  (signs of the computer age :-)\\n\\nIn closing, please don't let the hateful actions of a single person\\nharm you.  They are doing it because they are still the playground\\nbully and enjoy seeing the hurt they cause.  And you should not\\naccept the opinions of an imbecile that you are worthless - much\\nwiser people hold you in great esteem.\\n-- \\nDarin Johnson\\ndjohnson@ucsd.edu\\n  - Luxury!  In MY day, we had to make do with 5 bytes of swap...\\n\",\n",
              " 'From: s0612596@let.rug.nl (M.M. Zwart)\\nSubject: catholic church poland\\nOrganization: Faculteit der Letteren, Rijksuniversiteit Groningen, NL\\nLines: 10\\n\\nHello,\\n\\nI\\'m writing a paper on the role of the catholic church in Poland after 1989. \\nCan anyone tell me more about this, or fill me in on recent books/articles(\\nin english, german or french). Most important for me is the role of the \\nchurch concerning the abortion-law, religious education at schools,\\nbirth-control and the relation church-state(government). Thanx,\\n\\n                                                 Masja,\\n\"M.M.Zwart\"<s0612596@let.rug.nl>\\n',\n",
              " 'From: stanly@grok11.columbiasc.ncr.com (stanly)\\nSubject: Re: Elder Brother\\nOrganization: NCR Corp., Columbia SC\\nLines: 15\\n\\nIn article <Apr.8.00.57.41.1993.28246@athos.rutgers.edu> REXLEX@fnal.gov writes:\\n>In article <Apr.7.01.56.56.1993.22824@athos.rutgers.edu> shrum@hpfcso.fc.hp.com\\n>Matt. 22:9-14 \\'Go therefore to the main highways, and as many as you find\\n>there, invite to the wedding feast.\\'...\\n\\n>hmmmmmm.  Sounds like your theology and Christ\\'s are at odds. Which one am I \\n>to believe?\\n\\nIn this parable, Jesus tells the parable of the wedding feast. \"The kingdom\\nof heaven is like unto a certain king which made a marriage for his son\".\\nSo the wedding clothes were customary,  and \"given\" to those who \"chose\" to\\nattend.  This man \"refused\" to wear the clothes.  The wedding clothes are\\nequalivant to the \"clothes of righteousness\".  When Jesus died for our sins,\\nthose \"clothes\" were then provided.  Like that man, it is our decision to\\nput the clothes on.\\n']"
            ]
          },
          "metadata": {
            "tags": []
          },
          "execution_count": 27
        }
      ]
    },
    {
      "metadata": {
        "colab_type": "text",
        "id": "hTz4EaN_1WGc"
      },
      "cell_type": "markdown",
      "source": [
        "### 9.  Now with dependent and independent data available for both train and test datasets, using TfidfVectorizer fit and transform the training data and test data and get the tfidf features for both"
      ]
    },
    {
      "metadata": {
        "id": "-A1ehquw9vr3",
        "colab_type": "code",
        "colab": {}
      },
      "cell_type": "code",
      "source": [
        "\n",
        "def print_report(pipe):\n",
        "    y_test = twenty_test.target\n",
        "    y_pred = pipe.predict(twenty_test.data)\n",
        "    report = metrics.classification_report(y_test, y_pred,\n",
        "        target_names=twenty_test.target_names)\n",
        "    print(report)\n",
        "    print(\"accuracy: {:0.3f}\".format(metrics.accuracy_score(y_test, y_pred)))\n",
        "\n"
      ],
      "execution_count": 0,
      "outputs": []
    },
    {
      "metadata": {
        "colab_type": "code",
        "id": "H5G477f81C0Z",
        "colab": {}
      },
      "cell_type": "code",
      "source": [
        " vectorizer = TfidfVectorizer(min_df=0.01, max_df=0.95)\n",
        " train_data = vectorizer.fit_transform(twenty_train.data)\n",
        " test_data = vectorizer.transform(twenty_test.data)\n",
        " #train_data = train_data.todense()\n",
        " #test_data = test_data.todense()\n",
        " train_labels =twenty_train.target\n",
        " test_labels = twenty_test.target\n",
        "\n",
        " \n",
        "    \n",
        "    "
      ],
      "execution_count": 0,
      "outputs": []
    },
    {
      "metadata": {
        "id": "mcaT2zJb9vsO",
        "colab_type": "code",
        "colab": {}
      },
      "cell_type": "code",
      "source": [
        ""
      ],
      "execution_count": 0,
      "outputs": []
    },
    {
      "metadata": {
        "colab_type": "text",
        "id": "tp_fDINJ1t4L"
      },
      "cell_type": "markdown",
      "source": [
        "### 10. Use logisticRegression with tfidf features as input and targets as output and train the model and report the train and test accuracy score"
      ]
    },
    {
      "metadata": {
        "colab_type": "code",
        "id": "THlN2b5d1yQp",
        "colab": {
          "base_uri": "https://localhost:8080/",
          "height": 122
        },
        "outputId": "2b1f671b-19a5-40a6-9e1e-016db566e0b5"
      },
      "cell_type": "code",
      "source": [
        "logreg = LogisticRegression(C=1e9)\n",
        "logreg.fit(train_data, train_labels)\n",
        "logreg.score(test_data,test_labels)\n",
        "\n"
      ],
      "execution_count": 30,
      "outputs": [
        {
          "output_type": "stream",
          "text": [
            "/usr/local/lib/python3.6/dist-packages/sklearn/linear_model/logistic.py:433: FutureWarning: Default solver will be changed to 'lbfgs' in 0.22. Specify a solver to silence this warning.\n",
            "  FutureWarning)\n",
            "/usr/local/lib/python3.6/dist-packages/sklearn/linear_model/logistic.py:460: FutureWarning: Default multi_class will be changed to 'auto' in 0.22. Specify the multi_class option to silence this warning.\n",
            "  \"this warning.\", FutureWarning)\n"
          ],
          "name": "stderr"
        },
        {
          "output_type": "execute_result",
          "data": {
            "text/plain": [
              "0.8948069241011984"
            ]
          },
          "metadata": {
            "tags": []
          },
          "execution_count": 30
        }
      ]
    },
    {
      "metadata": {
        "id": "cu2M2UQ79vsY",
        "colab_type": "code",
        "colab": {}
      },
      "cell_type": "code",
      "source": [
        ""
      ],
      "execution_count": 0,
      "outputs": []
    }
  ]
}